{
 "cells": [
  {
   "cell_type": "code",
   "execution_count": 1,
   "id": "960e1ed1-e11e-4ae9-8a28-689008c0f78f",
   "metadata": {},
   "outputs": [],
   "source": [
    "#Question 1\n",
    "# Ans \n",
    "#Multithreading: -\n",
    "                #Multithreading involves creating multiple threads within a single process. \n",
    "#Threads are smaller units of execution within a process, and they share the same memory space. \n",
    "#This means they can access and modify the same data, which can lead to synchronization and data integrity challenges.\n",
    "#Multithreading is suitable for tasks that are I/O-bound or involve a lot of waiting,\n",
    "#as threads can take advantage of the time spent waiting for I/O operations to complete.\n",
    "#Why use: - \n",
    "#For faster communication between threads\n",
    "#It is good for I/O bound tasks\n",
    "#For lower memory overhead.\n",
    "#Module: - \n",
    "import threading"
   ]
  },
  {
   "cell_type": "code",
   "execution_count": 2,
   "id": "8bb79588-efad-457e-bc3c-00c8f1c6f0c7",
   "metadata": {},
   "outputs": [
    {
     "name": "stdout",
     "output_type": "stream",
     "text": [
      "I am thread 0\n",
      "I am thread 1\n",
      "I am thread 2\n",
      "I am thread 3\n",
      "I am thread 4\n",
      "Number of active threads:  8\n"
     ]
    }
   ],
   "source": [
    "#Question 2\n",
    "# Ans: - \n",
    "#The threading module in Python is used to implement multithreading, allowing you to create \n",
    "#and manage multiple threads within a single process. \n",
    "#It provides a high-level interface for creating, controlling, and synchronizing threads.\n",
    "#1. active_count() :-\n",
    "#the active_count() function is used to retrieve the current number of Thread objects that are alive. \n",
    "#A Thread object represents a separate thread of execution within a program. \n",
    "#The active_count() function returns the total number of Thread objects that are currently running \n",
    "#and have not yet finished their execution.\n",
    "#Example: -\n",
    "\n",
    "def func(id):\n",
    "    print(f\"I am thread {id}\")\n",
    "    \n",
    "threads = []\n",
    "\n",
    "for i in range(5):\n",
    "    thread = threading.Thread(target = func, args=(i,))\n",
    "    thread.start()\n",
    "    threads.append(thread)\n",
    "\n",
    "print(\"Number of active threads: \",threading.active_count())\n",
    "    "
   ]
  },
  {
   "cell_type": "code",
   "execution_count": 3,
   "id": "128daeb9-7ba0-4a44-a790-47ea1bae0aee",
   "metadata": {},
   "outputs": [
    {
     "name": "stdout",
     "output_type": "stream",
     "text": [
      "Current thread name:  Thread-10 (func)\n",
      "Main thread name:  MainThread\n"
     ]
    }
   ],
   "source": [
    "#currentThread() : - \n",
    "# the currentThread() function is used to obtain a reference to the currently executing Thread object.\n",
    "#A Thread object represents a separate thread of execution within a program. \n",
    "#This function is particularly useful for obtaining information about the thread that is currently running the code.\n",
    "#Example: - \n",
    "def func():\n",
    "    current_thread = threading.current_thread()\n",
    "    print(\"Current thread name: \",current_thread.name)\n",
    "    \n",
    "thread = threading.Thread(target = func)\n",
    "thread.start()\n",
    "thread.join()\n",
    "\n",
    "main_thread = threading.main_thread()\n",
    "print(\"Main thread name: \",main_thread.name)"
   ]
  },
  {
   "cell_type": "code",
   "execution_count": 4,
   "id": "ed407f11-c24a-4bda-8e80-b263ccdc55b0",
   "metadata": {},
   "outputs": [
    {
     "name": "stdout",
     "output_type": "stream",
     "text": [
      "Thread started. 0\n",
      "Thread started. 1\n",
      "Thread started. 2\n",
      "Thread finished 0.\n",
      "Thread finished 1.\n",
      "Thread finished 2.\n",
      "Alive  threads:  [<_MainThread(MainThread, started 140468872480576)>, <Thread(IOPub, started daemon 140468801951296)>, <Heartbeat(Heartbeat, started daemon 140468793558592)>, <Thread(Thread-3 (_watch_pipe_fd), started daemon 140468566349376)>, <Thread(Thread-4 (_watch_pipe_fd), started daemon 140468557956672)>, <ControlThread(Control, started daemon 140468549563968)>, <HistorySavingThread(IPythonHistorySavingThread, started 140468541171264)>, <ParentPollerUnix(Thread-2, started daemon 140468531729984)>]\n"
     ]
    }
   ],
   "source": [
    "#enumerate(): -\n",
    "#The enumerate() function in the threading module returns a list of all Thread objects that are currently alive. \n",
    "#This can be useful for tracking and managing threads that are active in your program.\n",
    "import threading\n",
    "import time\n",
    "\n",
    "def worker_function(id):\n",
    "    print(\"Thread started.\",id)\n",
    "    time.sleep(2)\n",
    "    print(f\"Thread finished {id}.\")\n",
    "\n",
    "# Create multiple threads\n",
    "thread = [threading.Thread(target = worker_function, args=(i,)) for i in range(3)]\n",
    "\n",
    "# start multiple threads\n",
    "for t in thread:\n",
    "    t.start()\n",
    "\n",
    "# Wait for all threads to finish\n",
    "for th in thread:\n",
    "    t.join()\n",
    "\n",
    "# Enumerate and print alive threads after all threads have finished\n",
    "\n",
    "alive_threads = threading.enumerate()\n",
    "print(\"Alive  threads: \",alive_threads)\n"
   ]
  },
  {
   "cell_type": "code",
   "execution_count": 5,
   "id": "c7c03b2e-e68a-48f2-bf4c-260fe3f240fe",
   "metadata": {},
   "outputs": [
    {
     "name": "stdout",
     "output_type": "stream",
     "text": [
      "Thread started.\n",
      "PW SKILLS\n",
      "Thread finished.\n",
      "Main thread finished.\n"
     ]
    }
   ],
   "source": [
    "#Question 3\n",
    "#Ans: - \n",
    "# run() : - the run() method is not directly used for creating and managing threads. \n",
    "#Instead, it's a method that you can override in your custom thread class to define the behavior of the thread \n",
    "#when it's started using the start() method.\n",
    "#When you create a custom thread class by subclassing the threading.\n",
    "#Thread class, you can override the run() method in your subclass to specify what the thread should do when it's started. \n",
    "#The run() method contains the code that will be executed in the new thread.\n",
    "import threading\n",
    "\n",
    "class MyThread(threading.Thread):\n",
    "    def run(self):\n",
    "        print(\"Thread started.\")\n",
    "        print(\"PW SKILLS\")\n",
    "        print(\"Thread finished.\")\n",
    "        \n",
    "thread = MyThread()\n",
    "thread.start()\n",
    "thread.join()\n",
    "\n",
    "print(\"Main thread finished.\")"
   ]
  },
  {
   "cell_type": "code",
   "execution_count": 6,
   "id": "cf5ee72c-b3bc-4cb9-b95e-ea8339d84690",
   "metadata": {},
   "outputs": [],
   "source": [
    "# start(): - the start() method is used to begin the execution of a separate thread of control. \n",
    "#It's a method provided by the threading.Thread class in Python's threading module. \n",
    "#When you call the start() method on a Thread object, a new thread is created, \n",
    "#and the run() method of that thread is invoked in the newly created thread."
   ]
  },
  {
   "cell_type": "code",
   "execution_count": 7,
   "id": "934f14dc-6160-4ea7-bccc-f0a33ba66758",
   "metadata": {},
   "outputs": [],
   "source": [
    "#join(): -  the join() method is used to wait for a thread to complete its execution before the program proceeds further. \n",
    "#It's a method provided by the threading.Thread class in Python's threading module.\n",
    "#When you call the join() method on a Thread object, the calling thread (usually the main thread) \n",
    "#will wait until the target thread (the thread you're calling join() on) finishes executing."
   ]
  },
  {
   "cell_type": "code",
   "execution_count": 8,
   "id": "9b87c325-91a8-40ff-aaf8-413c7eee17e1",
   "metadata": {},
   "outputs": [
    {
     "name": "stdout",
     "output_type": "stream",
     "text": [
      "Thread started.Is thread alive?  True\n",
      "\n",
      "Thread finished.\n",
      "Is thread alive?  False\n"
     ]
    }
   ],
   "source": [
    "#isALive(): - The is_alive() method (also accessible as isAlive()) is used to check whether a Thread object is currently alive \n",
    "#or has finished its execution. It returns True if the thread is still active and running, and False \n",
    "#if the thread has completed its execution or hasn't been started yet.\n",
    "import threading\n",
    "import time\n",
    "\n",
    "def func():\n",
    "    print(\"Thread started.\")\n",
    "    time.sleep(2)\n",
    "    print(\"Thread finished.\")\n",
    "    \n",
    "thread = threading.Thread(target = func)\n",
    "thread.start()\n",
    "print(\"Is thread alive? \",thread.is_alive())\n",
    "thread.join()\n",
    "\n",
    "print(\"Is thread alive? \",thread.is_alive())"
   ]
  },
  {
   "cell_type": "code",
   "execution_count": 9,
   "id": "354324a8-0daf-4cbd-a0d9-25f7f99dbe55",
   "metadata": {},
   "outputs": [
    {
     "name": "stdout",
     "output_type": "stream",
     "text": [
      "Square:  1\n",
      "Square:  4\n",
      "Square:  9\n",
      "Square:  16\n",
      "Square:  25\n",
      "Square:  36\n",
      "Square:  49\n",
      "Square:  64\n",
      "Square:  81\n",
      "Square:  100\n",
      "Cube:  1\n",
      "Cube:  8\n",
      "Cube:  27\n",
      "Cube:  64\n",
      "Cube:  125\n",
      "Cube:  216\n",
      "Cube:  343\n",
      "Cube:  512\n",
      "Cube:  729\n",
      "Cube:  1000\n"
     ]
    }
   ],
   "source": [
    "#Question 4\n",
    "#ans\n",
    "\n",
    "def squares(i):\n",
    "    print(\"Square: \",i**2)\n",
    "    \n",
    "def cubes(i):\n",
    "    print(\"Cube: \",i**3)\n",
    "    \n",
    "square_thread = [threading.Thread(target = squares, args=(i,)) for i in range(1,11)]\n",
    "cube_thread = [threading.Thread(target=cubes,args=(i,)) for i in range(1,11)]\n",
    "for st in square_thread:\n",
    "    st.start()\n",
    "    st.join()\n",
    "for ct in cube_thread:\n",
    "    ct.start()\n",
    "    ct.join()"
   ]
  },
  {
   "cell_type": "code",
   "execution_count": 10,
   "id": "748642ba-e3e9-4536-8e7f-7e5e315e1f6c",
   "metadata": {},
   "outputs": [],
   "source": [
    "#Question 5\n",
    "#Ans\n",
    "#Advantages of Multithreading:\n",
    "#Concurrency: \n",
    "#Multithreading allows different parts of your program to run concurrently, enabling more efficient use of available resources,\n",
    "#especially in systems with multiple processor cores. This can lead to improved performance and responsiveness.\n",
    "#Resource Sharing: \n",
    "#Threads within the same process can share memory and data, which can be useful for communication and data exchange\n",
    "#between different parts of your application.\n",
    "#Responsiveness: \n",
    "#In applications with graphical user interfaces (GUIs), multithreading can help ensure that the UI remains responsive \n",
    "#even when performing time-consuming tasks in the background.\n",
    "#I/O-Bound Tasks: \n",
    "#Multithreading is particularly effective for I/O-bound tasks, \n",
    "#where threads can switch between tasks while waiting for I/O operations to complete, thus making better use of CPU time.\n",
    "#Reduced Overhead:\n",
    "#Creating and managing threads usually have less overhead compared to processes, as threads within the same\n",
    "#process share resources like memory space and file descriptors.\n",
    "\n",
    "#Disadvantages of Multithreading:\n",
    "\n",
    "#Complexity: \n",
    "#Multithreading introduces complexity due to the need for proper synchronization mechanisms to prevent race conditions \n",
    "#and ensure data integrity. Debugging and managing multithreaded code can be more challenging.\n",
    "#Synchronization Overhead: \n",
    "#Synchronizing access to shared resources can introduce overhead and potential performance bottlenecks, \n",
    "#especially in scenarios where multiple threads contend for the same resources.\n",
    "#Deadlocks and Race Conditions: Incorrect synchronization or improper use of locks can lead to issues like deadlocks \n",
    "#(when threads are stuck waiting for each other) or race conditions (when multiple threads access shared data concurrently, \n",
    "#leading to unexpected results).\n",
    "#GIL Limitations: \n",
    "#In languages like Python, the Global Interpreter Lock (GIL) limits the ability of multiple threads to \n",
    "#execute Python bytecode in parallel, impacting performance for CPU-bound tasks.\n",
    "#Platform Dependency: \n",
    "#Multithreading behavior can vary across platforms, and the availability of certain features or limitations \n",
    "#might affect the portability of your code.\n",
    "#Difficulty in Debugging: Debugging multithreaded applications can be challenging due to issues like nondeterministic behavior, \n",
    "#race conditions, and concurrency-related bugs that might not always be easy to reproduce."
   ]
  },
  {
   "cell_type": "code",
   "execution_count": 11,
   "id": "d317f843-5344-4a60-bacb-f24d774b946c",
   "metadata": {},
   "outputs": [
    {
     "name": "stdout",
     "output_type": "stream",
     "text": [
      "Thread A has acquired resource a\n",
      "Thread A has acquired resource b.\n",
      "Thread B has acquired resource b.\n",
      "Thread B has acquired resource a.\n",
      "Main thread has finished.\n"
     ]
    }
   ],
   "source": [
    "#Question 6\n",
    "#Ans: \n",
    "#Deadloack: - \n",
    "#A deadlock is a situation in which two or more threads or processes are unable to proceed because they're each waiting for the other \n",
    "#to release a resource, resulting in a standstill. Deadlocks can occur in multithreaded or multiprocess systems when improper \n",
    "#synchronization or resource allocation strategies are used.\n",
    "\n",
    "import threading\n",
    "\n",
    "resource_a = threading.Lock()\n",
    "resource_b = threading.Lock()\n",
    "\n",
    "def thread_a():\n",
    "    with resource_a:\n",
    "        print(\"Thread A has acquired resource a\")\n",
    "        with resource_b:\n",
    "            print(\"Thread A has acquired resource b.\")\n",
    "\n",
    "def thread_b():\n",
    "    with resource_b:\n",
    "        print(\"Thread B has acquired resource b.\")\n",
    "        with resource_a:\n",
    "            print(\"Thread B has acquired resource a.\")\n",
    "            \n",
    "threadA = threading.Thread(target = thread_a)\n",
    "threadB = threading.Thread(target = thread_b)\n",
    "threadA.start()\n",
    "threadB.start()\n",
    "threadA.join()\n",
    "threadB.join()\n",
    "print(\"Main thread has finished.\")"
   ]
  },
  {
   "cell_type": "code",
   "execution_count": 12,
   "id": "649ab1d1-1386-4924-86f3-87d298fa534b",
   "metadata": {},
   "outputs": [
    {
     "name": "stdout",
     "output_type": "stream",
     "text": [
      "Starting time:  Sat Aug 26 06:48:09 2023\n",
      "Ending time:  Sat Aug 26 06:48:27 2023\n",
      "Counter value:  0\n",
      "Main thread has finished.\n"
     ]
    }
   ],
   "source": [
    "#Race: -\n",
    "#A race condition occurs when multiple threads or processes access shared resources concurrently, \n",
    "#leading to unpredictable and unintended behavior. \n",
    "#It happens when the outcome depends on the timing of the thread execution.\n",
    "import threading\n",
    "import time\n",
    "counter = 0\n",
    "print(\"Starting time: \",time.ctime())\n",
    "def increment_counter():\n",
    "    global counter\n",
    "    for _ in range(100000000):\n",
    "        counter +=1\n",
    "\n",
    "def decrement_counter():\n",
    "    global counter\n",
    "    for _ in range(100000000):\n",
    "        counter -=1\n",
    "        \n",
    "thread1 = threading.Thread(target = increment_counter)\n",
    "thread2 = threading.Thread(target = decrement_counter)\n",
    "thread1.start()\n",
    "thread2.start()\n",
    "thread1.join()\n",
    "thread2.join()\n",
    "print(\"Ending time: \",time.ctime())\n",
    "print(\"Counter value: \",counter)\n",
    "print(\"Main thread has finished.\")"
   ]
  },
  {
   "cell_type": "code",
   "execution_count": null,
   "id": "7b5a6687-d6f8-45dc-8c52-f83d056f0307",
   "metadata": {},
   "outputs": [],
   "source": []
  }
 ],
 "metadata": {
  "kernelspec": {
   "display_name": "Python 3 (ipykernel)",
   "language": "python",
   "name": "python3"
  },
  "language_info": {
   "codemirror_mode": {
    "name": "ipython",
    "version": 3
   },
   "file_extension": ".py",
   "mimetype": "text/x-python",
   "name": "python",
   "nbconvert_exporter": "python",
   "pygments_lexer": "ipython3",
   "version": "3.10.8"
  }
 },
 "nbformat": 4,
 "nbformat_minor": 5
}
